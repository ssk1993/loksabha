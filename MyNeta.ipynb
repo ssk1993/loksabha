{
 "cells": [
  {
   "cell_type": "code",
   "execution_count": 1,
   "id": "according-commercial",
   "metadata": {},
   "outputs": [],
   "source": [
    "import requests\n",
    "from bs4 import BeautifulSoup\n",
    "import csv\n",
    "import re\n",
    "import pandas as pd"
   ]
  },
  {
   "cell_type": "code",
   "execution_count": 2,
   "id": "desirable-closer",
   "metadata": {},
   "outputs": [],
   "source": [
    "#package for selectingf a dropdown option \n",
    "from selenium.webdriver.support.ui import Select"
   ]
  },
  {
   "cell_type": "code",
   "execution_count": 3,
   "id": "deadly-third",
   "metadata": {},
   "outputs": [
    {
     "name": "stderr",
     "output_type": "stream",
     "text": [
      "[WDM] - ====== WebDriver manager ======\n",
      "[WDM] - Current google-chrome version is 106.0.5249\n",
      "[WDM] - Get LATEST driver version for 106.0.5249\n",
      "[WDM] - Driver [C:\\Users\\sugan\\.wdm\\drivers\\chromedriver\\win32\\106.0.5249.61\\chromedriver.exe] found in cache\n"
     ]
    },
    {
     "name": "stdout",
     "output_type": "stream",
     "text": [
      "\n",
      "\n"
     ]
    }
   ],
   "source": [
    "from selenium import webdriver\n",
    "from webdriver_manager.chrome import ChromeDriverManager\n",
    "\n",
    "driver = webdriver.Chrome(ChromeDriverManager().install())\n",
    "\n",
    "#url of the website\n",
    "URL = 'https://myneta.info/LokSabha2019/index.php?action=show_winners'\n",
    "\n",
    "driver.get(URL)\n",
    "#html parser for beautiful soup \n",
    "html = driver.page_source\n",
    "soup = BeautifulSoup(html)"
   ]
  },
  {
   "cell_type": "code",
   "execution_count": 4,
   "id": "activated-yacht",
   "metadata": {},
   "outputs": [
    {
     "data": {
      "text/plain": [
       "80"
      ]
     },
     "execution_count": 4,
     "metadata": {},
     "output_type": "execute_result"
    }
   ],
   "source": [
    "#creating a file \n",
    "file = open('neta.csv', 'w',newline='', encoding='utf8')\n",
    "writer = csv.writer(file)\n",
    " \n",
    "    \n",
    "# write title row\n",
    "writer.writerow(['candidate','constituency','party','criminal_cases', 'education','total_assets','liabilities'])"
   ]
  },
  {
   "cell_type": "code",
   "execution_count": 5,
   "id": "vocational-china",
   "metadata": {},
   "outputs": [],
   "source": [
    "results = soup.find(id='main')\n",
    "# results = soup.find(\"div\", class_=\"divTableWithFloatingHeader\")\n",
    "\n",
    "#getting all the rows of table\n",
    "table_data = results.find_all(\"tr\")[22:]"
   ]
  },
  {
   "cell_type": "code",
   "execution_count": 6,
   "id": "brilliant-progressive",
   "metadata": {},
   "outputs": [],
   "source": [
    "# table_data"
   ]
  },
  {
   "cell_type": "code",
   "execution_count": 7,
   "id": "addressed-light",
   "metadata": {},
   "outputs": [],
   "source": [
    "for tr in table_data[:541]:\n",
    "        tds = tr.find_all('td')\n",
    "        \n",
    "        candidate= tds[1].text.strip()\n",
    "        constituency= tds[2].text.strip()\n",
    "        party= tds[3].text.strip()\n",
    "        criminal_cases= tds[4].text.strip()\n",
    "        education = tds[5].text.strip()\n",
    "        total_assets = tds[6].text.strip()\n",
    "        liabilities = tds[7].text.strip()\n",
    "        writer.writerow([candidate,constituency,party,criminal_cases, education, total_assets,liabilities])\n",
    "#         print(liabilities.strip())\n",
    "        \n",
    "    \n",
    "        \n",
    "file.close()"
   ]
  },
  {
   "cell_type": "code",
   "execution_count": 8,
   "id": "portuguese-olympus",
   "metadata": {},
   "outputs": [
    {
     "data": {
      "text/html": [
       "<div>\n",
       "<style scoped>\n",
       "    .dataframe tbody tr th:only-of-type {\n",
       "        vertical-align: middle;\n",
       "    }\n",
       "\n",
       "    .dataframe tbody tr th {\n",
       "        vertical-align: top;\n",
       "    }\n",
       "\n",
       "    .dataframe thead th {\n",
       "        text-align: right;\n",
       "    }\n",
       "</style>\n",
       "<table border=\"1\" class=\"dataframe\">\n",
       "  <thead>\n",
       "    <tr style=\"text-align: right;\">\n",
       "      <th></th>\n",
       "      <th>candidate</th>\n",
       "      <th>constituency</th>\n",
       "      <th>party</th>\n",
       "      <th>criminal_cases</th>\n",
       "      <th>education</th>\n",
       "      <th>total_assets</th>\n",
       "      <th>liabilities</th>\n",
       "    </tr>\n",
       "  </thead>\n",
       "  <tbody>\n",
       "    <tr>\n",
       "      <th>0</th>\n",
       "      <td>Bapu Rao Soyam</td>\n",
       "      <td>ADILABAD</td>\n",
       "      <td>BJP</td>\n",
       "      <td>52</td>\n",
       "      <td>12th Pass</td>\n",
       "      <td>Rs 30,99,414 ~ 30 Lacs+</td>\n",
       "      <td>Rs 2,31,450 ~ 2 Lacs+</td>\n",
       "    </tr>\n",
       "    <tr>\n",
       "      <th>1</th>\n",
       "      <td>Satyapal Singh Baghel</td>\n",
       "      <td>AGRA</td>\n",
       "      <td>BJP</td>\n",
       "      <td>5</td>\n",
       "      <td>Doctorate</td>\n",
       "      <td>Rs 7,42,74,036 ~ 7 Crore+</td>\n",
       "      <td>Rs 86,06,522 ~ 86 Lacs+</td>\n",
       "    </tr>\n",
       "    <tr>\n",
       "      <th>2</th>\n",
       "      <td>Patel Hasmukhbhai Somabhai</td>\n",
       "      <td>AHMEDABAD EAST</td>\n",
       "      <td>BJP</td>\n",
       "      <td>0</td>\n",
       "      <td>Others</td>\n",
       "      <td>Rs 7,46,99,690 ~ 7 Crore+</td>\n",
       "      <td>Rs 62,52,577 ~ 62 Lacs+</td>\n",
       "    </tr>\n",
       "    <tr>\n",
       "      <th>3</th>\n",
       "      <td>Dr. Solanki Kiritbhai</td>\n",
       "      <td>AHMEDABAD WEST</td>\n",
       "      <td>BJP</td>\n",
       "      <td>0</td>\n",
       "      <td>Post Graduate</td>\n",
       "      <td>Rs 8,94,74,039 ~ 8 Crore+</td>\n",
       "      <td>Rs 0 ~</td>\n",
       "    </tr>\n",
       "    <tr>\n",
       "      <th>4</th>\n",
       "      <td>Sujay Radhakrishna Vikhe</td>\n",
       "      <td>AHMEDNAGAR</td>\n",
       "      <td>BJP</td>\n",
       "      <td>0</td>\n",
       "      <td>Doctorate</td>\n",
       "      <td>Rs 16,86,64,576 ~ 16 Crore+</td>\n",
       "      <td>Rs 26,23,964 ~ 26 Lacs+</td>\n",
       "    </tr>\n",
       "  </tbody>\n",
       "</table>\n",
       "</div>"
      ],
      "text/plain": [
       "                    candidate    constituency party  criminal_cases  \\\n",
       "0              Bapu Rao Soyam        ADILABAD   BJP              52   \n",
       "1       Satyapal Singh Baghel            AGRA   BJP               5   \n",
       "2  Patel Hasmukhbhai Somabhai  AHMEDABAD EAST   BJP               0   \n",
       "3       Dr. Solanki Kiritbhai  AHMEDABAD WEST   BJP               0   \n",
       "4    Sujay Radhakrishna Vikhe      AHMEDNAGAR   BJP               0   \n",
       "\n",
       "       education                 total_assets              liabilities  \n",
       "0      12th Pass      Rs 30,99,414 ~ 30 Lacs+    Rs 2,31,450 ~ 2 Lacs+  \n",
       "1      Doctorate    Rs 7,42,74,036 ~ 7 Crore+  Rs 86,06,522 ~ 86 Lacs+  \n",
       "2         Others    Rs 7,46,99,690 ~ 7 Crore+  Rs 62,52,577 ~ 62 Lacs+  \n",
       "3  Post Graduate    Rs 8,94,74,039 ~ 8 Crore+                   Rs 0 ~  \n",
       "4      Doctorate  Rs 16,86,64,576 ~ 16 Crore+  Rs 26,23,964 ~ 26 Lacs+  "
      ]
     },
     "execution_count": 8,
     "metadata": {},
     "output_type": "execute_result"
    }
   ],
   "source": [
    "df = pd.read_csv(\"neta.csv\")\n",
    "df.head()"
   ]
  }
 ],
 "metadata": {
  "kernelspec": {
   "display_name": "Python 3",
   "language": "python",
   "name": "python3"
  },
  "language_info": {
   "codemirror_mode": {
    "name": "ipython",
    "version": 3
   },
   "file_extension": ".py",
   "mimetype": "text/x-python",
   "name": "python",
   "nbconvert_exporter": "python",
   "pygments_lexer": "ipython3",
   "version": "3.7.10"
  }
 },
 "nbformat": 4,
 "nbformat_minor": 5
}
